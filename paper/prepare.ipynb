{
 "cells": [
  {
   "cell_type": "code",
   "execution_count": 1,
   "metadata": {
    "ExecuteTime": {
     "end_time": "2023-11-26T08:16:17.962725300Z",
     "start_time": "2023-11-26T08:16:14.186877400Z"
    },
    "collapsed": false
   },
   "outputs": [],
   "source": [
    "import os\n",
    "import sys\n",
    "import numpy as np\n",
    "root = \"/data/public/renhaoye/morphics/\"\n",
    "pkg = \"/data/public/renhaoye/mgs/\"\n",
    "subdirs = [os.path.join(pkg, d) for d in os.listdir(pkg) if os.path.isdir(os.path.join(pkg, d))]\n",
    "for subdir in subdirs:\n",
    "    sys.path.append(subdir)\n",
    "from astropy.io import fits\n",
    "from sklearn.model_selection import train_test_split\n",
    "import matplotlib.pyplot as plt\n",
    "from utils.utils import *\n",
    "%matplotlib inline\n",
    "def arcsinh_rgb(imgs, bands, scales=None,m = 0.03):\n",
    "    import numpy as np\n",
    "    rgbscales =dict(g=(2,6.0), r=(1,3.4), z=(0,2.2))\n",
    "    if scales is not None:\n",
    "        rgbscales.update(scales)\n",
    "\n",
    "    I = 0\n",
    "    for img,band in zip(imgs, bands):\n",
    "        plane,scale = rgbscales[band]\n",
    "        img = np.maximum(0, img * scale + m)\n",
    "        I = I + img\n",
    "    I /= len(bands)\n",
    "\n",
    "    Q = 50\n",
    "    fI = np.arcsinh(Q * I) / np.sqrt(Q)\n",
    "    # fI = MTF(I)\n",
    "    I += (I == 0.) * 1e-9\n",
    "    H,W = I.shape\n",
    "    rgb = np.zeros((H,W,3), np.float32)\n",
    "    for img,band in zip(imgs, bands):\n",
    "        plane,scale = rgbscales[band]\n",
    "        rgb[:,:,plane] = (img * scale + m) * fI / I\n",
    "    rgb = np.clip(rgb, 0, 1)\n",
    "    return rgb"
   ]
  },
  {
   "cell_type": "code",
   "execution_count": 6,
   "metadata": {
    "ExecuteTime": {
     "end_time": "2023-11-21T07:06:12.244790Z",
     "start_time": "2023-11-21T07:00:37.318369500Z"
    },
    "collapsed": false
   },
   "outputs": [],
   "source": [
    "import pandas as pd\n",
    "df_c = pd.read_csv(root + \"/dataset/gz_decals_volunteers_c.csv\", index_col=0).rename(columns=lambda x: x.replace(\"-\", \"_\")).fillna(0)\n",
    "\"\"\"local files in DECaLS\"\"\"\n",
    "# df_in_decals = load_dir(\"/data/public/renhaoye/morphics/dataset/in_decals/raw_fits/\")\n",
    "# df_in_decals = load_dir(\"/data1/public/BGS/bgs_bright_south/\")\n",
    "south_img = load_dir(\"/data1/public/BGS/bgs_bright_south/\")\n",
    "overlap_south_img = load_dir(\"/data1/public/BGS/bgs_bright_south_overlap/\")\n",
    "north_img = load_dir(\"/data1/public/BGS/bgs_bright_north/\")\n",
    "overlap_north_img = load_dir(\"/data1/public/BGS/bgs_bright_north_overlap/\")\n",
    "\n",
    "df_in_decals = pd.concat([load_dir(\"/data1/public/BGS/bgs_bright_south/\"), load_dir(\"/data1/public/BGS/bgs_bright_south_overlap/\")])\n",
    "\"\"\"local files in BASS+MzLS\"\"\"\n",
    "# df_out_decals = load_dir(\"/data/public/renhaoye/morphics/dataset/out_decals/raw_fits/\")\n",
    "# df_out_decals = load_dir(\"/data1/public/BGS/bgs_bright_north/\")\n",
    "df_out_decals = pd.concat([load_dir(\"/data1/public/BGS/bgs_bright_north/\"), load_dir(\"/data1/public/BGS/bgs_bright_north_overlap/\")])\n",
    "# \"\"\"main galaxy sample\"\"\"\n",
    "# with fits.open(\"/data/public/renhaoye/nsa_v1_0_1.fits\") as hdul:\n",
    "#     ra = np.array(hdul[1].data[\"RA      \"])\n",
    "#     dec = np.array(hdul[1].data[\"DEC     \"])\n",
    "#     flux = np.array(hdul[1].data[\"PETRO_FLUX\"][:, 4])\n",
    "#     # 为非正值设定一个小的正数值或直接将其设为NaN\n",
    "#     flux[flux <= 0] = np.nan\n",
    "#     petro_mag = -2.5 * np.log10(flux) + 22.5\n",
    "#     z = np.array(hdul[1].data[\"Z\"])\n",
    "#     petro_th = np.array(hdul[1].data[\"PETRO_THETA\"])\n",
    "#     MGS = pd.DataFrame(np.array((ra, dec, petro_mag, z, petro_th)).T, columns=[\"ra\", \"dec\", \"petro_mag\", \"z\", \"petro_th\"])\n",
    "# ra = []\n",
    "# dec = []\n",
    "# with open(\"/data/public/renhaoye/morphics/dataset/overlap_north_raw.txt\", \"r\") as r:\n",
    "#     # 按行读取文件\n",
    "#     lines = r.readlines()\n",
    "#     # 对每行的字符串进行提取,保留raw_fits/和.fits中间的字符串\n",
    "#     for line in lines:\n",
    "#         if os.path.exists(line.split(\" label\")[0]):\n",
    "#             ra.append(float(line.split(\"raw_fits/\")[1].split(\".fits\")[0].split(\"_\")[0]))\n",
    "#             dec.append(float(line.split(\"raw_fits/\")[1].split(\".fits\")[0].split(\"_\")[1]))"
   ]
  },
  {
   "cell_type": "code",
   "execution_count": 2,
   "metadata": {
    "ExecuteTime": {
     "end_time": "2023-11-26T08:18:07.578820Z",
     "start_time": "2023-11-26T08:16:28.721108400Z"
    },
    "collapsed": false
   },
   "outputs": [
    {
     "data": {
      "text/html": [
       "<div>\n",
       "<style scoped>\n",
       "    .dataframe tbody tr th:only-of-type {\n",
       "        vertical-align: middle;\n",
       "    }\n",
       "\n",
       "    .dataframe tbody tr th {\n",
       "        vertical-align: top;\n",
       "    }\n",
       "\n",
       "    .dataframe thead th {\n",
       "        text-align: right;\n",
       "    }\n",
       "</style>\n",
       "<table border=\"1\" class=\"dataframe\">\n",
       "  <thead>\n",
       "    <tr style=\"text-align: right;\">\n",
       "      <th></th>\n",
       "      <th>ra</th>\n",
       "      <th>dec</th>\n",
       "      <th>release</th>\n",
       "      <th>brickid</th>\n",
       "      <th>brickname</th>\n",
       "      <th>brickobjid</th>\n",
       "      <th>flux_g</th>\n",
       "      <th>flux_r</th>\n",
       "      <th>flux_z</th>\n",
       "    </tr>\n",
       "  </thead>\n",
       "  <tbody>\n",
       "    <tr>\n",
       "      <th>0</th>\n",
       "      <td>328.7156249444488</td>\n",
       "      <td>27.63432602933804</td>\n",
       "      <td>9010</td>\n",
       "      <td>485467</td>\n",
       "      <td>3288p277</td>\n",
       "      <td>579</td>\n",
       "      <td>18.243229</td>\n",
       "      <td>52.62409</td>\n",
       "      <td>106.959114</td>\n",
       "    </tr>\n",
       "    <tr>\n",
       "      <th>1</th>\n",
       "      <td>328.9466755042228</td>\n",
       "      <td>27.64660925663617</td>\n",
       "      <td>9010</td>\n",
       "      <td>485467</td>\n",
       "      <td>3288p277</td>\n",
       "      <td>4861</td>\n",
       "      <td>5.6847825</td>\n",
       "      <td>14.367889</td>\n",
       "      <td>26.101847</td>\n",
       "    </tr>\n",
       "    <tr>\n",
       "      <th>2</th>\n",
       "      <td>328.9567463275409</td>\n",
       "      <td>27.646560346950302</td>\n",
       "      <td>9010</td>\n",
       "      <td>485467</td>\n",
       "      <td>3288p277</td>\n",
       "      <td>5074</td>\n",
       "      <td>4.053525</td>\n",
       "      <td>14.938572</td>\n",
       "      <td>30.832163</td>\n",
       "    </tr>\n",
       "    <tr>\n",
       "      <th>3</th>\n",
       "      <td>328.7170520697251</td>\n",
       "      <td>27.62098427645632</td>\n",
       "      <td>9010</td>\n",
       "      <td>484190</td>\n",
       "      <td>3286p275</td>\n",
       "      <td>5423</td>\n",
       "      <td>27.474945</td>\n",
       "      <td>52.488815</td>\n",
       "      <td>87.24483</td>\n",
       "    </tr>\n",
       "    <tr>\n",
       "      <th>4</th>\n",
       "      <td>328.74714444486716</td>\n",
       "      <td>27.605519312435707</td>\n",
       "      <td>9010</td>\n",
       "      <td>484190</td>\n",
       "      <td>3286p275</td>\n",
       "      <td>6239</td>\n",
       "      <td>84.30101</td>\n",
       "      <td>200.85835</td>\n",
       "      <td>379.93805</td>\n",
       "    </tr>\n",
       "  </tbody>\n",
       "</table>\n",
       "</div>"
      ],
      "text/plain": [
       "                   ra                 dec release brickid brickname  \\\n",
       "0   328.7156249444488   27.63432602933804    9010  485467  3288p277   \n",
       "1   328.9466755042228   27.64660925663617    9010  485467  3288p277   \n",
       "2   328.9567463275409  27.646560346950302    9010  485467  3288p277   \n",
       "3   328.7170520697251   27.62098427645632    9010  484190  3286p275   \n",
       "4  328.74714444486716  27.605519312435707    9010  484190  3286p275   \n",
       "\n",
       "  brickobjid     flux_g     flux_r      flux_z  \n",
       "0        579  18.243229   52.62409  106.959114  \n",
       "1       4861  5.6847825  14.367889   26.101847  \n",
       "2       5074   4.053525  14.938572   30.832163  \n",
       "3       5423  27.474945  52.488815    87.24483  \n",
       "4       6239   84.30101  200.85835   379.93805  "
      ]
     },
     "execution_count": 2,
     "metadata": {},
     "output_type": "execute_result"
    }
   ],
   "source": [
    "\"\"\"for flux estimate\"\"\"\n",
    "data = fits.open(\"/data1/public/BGS/BGS_BRIGHT_SOUTH.fits\")\n",
    "ra = np.array(data[1].data[\"RA      \"])\n",
    "dec = np.array(data[1].data[\"DEC     \"])\n",
    "release = np.array(data[1].data[\"RELEASE \"])\n",
    "brickid = np.array(data[1].data[\"BRICKID \"])\n",
    "brickname = np.array(data[1].data[\"BRICKNAME \"])\n",
    "brickobjid = np.array(data[1].data[\"BRICK_OBJID\"])\n",
    "flux_g = np.array(data[1].data[\"FLUX_G  \"])\n",
    "flux_r = np.array(data[1].data[\"FLUX_R  \"])\n",
    "flux_z = np.array(data[1].data[\"FLUX_Z  \"])\n",
    "bright_id = pd.DataFrame(np.array((ra, dec,release, brickid, brickname, brickobjid, flux_g, flux_r, flux_z)).T, columns=[\"ra\", \"dec\", \"release\", \"brickid\", \"brickname\", \"brickobjid\", \"flux_g\", \"flux_r\", \"flux_z\"])\n",
    "bright_id.head()"
   ]
  },
  {
   "cell_type": "code",
   "execution_count": 4,
   "metadata": {
    "ExecuteTime": {
     "end_time": "2023-11-14T05:53:49.141654800Z",
     "start_time": "2023-11-14T05:53:49.098289600Z"
    },
    "collapsed": false
   },
   "outputs": [],
   "source": [
    "for i in range(50):\n",
    "    if not os.path.exists(f\"/data1/DECaLS/data_fits/{bright_id['brickname'][i][:3]}/legacysurvey-{bright_id['brickname'][i]}-image/legacysurvey-{bright_id['brickname'][i]}-image-r.fits\"):\n",
    "        print(i)"
   ]
  },
  {
   "cell_type": "code",
   "execution_count": null,
   "metadata": {
    "ExecuteTime": {
     "end_time": "2023-11-14T05:53:50.947476600Z",
     "start_time": "2023-11-14T05:53:50.878198500Z"
    },
    "collapsed": false
   },
   "outputs": [],
   "source": [
    "i = 5\n",
    "hdul = fits.open(f\"/data1/DECaLS/data_fits/{bright_id['brickname'][i][:3]}/legacysurvey-{bright_id['brickname'][i]}-image/legacysurvey-{bright_id['brickname'][i]}-image-r.fits\")\n",
    "from astropy.wcs import WCS\n",
    "from astropy.coordinates import SkyCoord\n",
    "wcs = WCS(hdul[1].header)\n",
    "\n",
    "hdul[1].header, wcs, wcs.world_to_pixel(SkyCoord(bright_id[\"ra\"][i], bright_id[\"dec\"][i], unit=\"deg\")), bright_id[\"ra\"][i], bright_id[\"dec\"][i]"
   ]
  },
  {
   "cell_type": "code",
   "execution_count": 73,
   "metadata": {
    "ExecuteTime": {
     "end_time": "2023-11-14T07:15:26.494147600Z",
     "start_time": "2023-11-14T07:15:22.115339100Z"
    },
    "collapsed": false
   },
   "outputs": [],
   "source": [
    "def find_missing_fits_files(base_directory):\n",
    "    missing_files = []\n",
    "    for subdir, dirs, _ in os.walk(base_directory):\n",
    "        if dirs != []:\n",
    "            for dir_name in dirs:\n",
    "                if \"-image-g\" in dir_name:\n",
    "                    missing_files.append(os.path.join(subdir, dir_name))\n",
    "                if \"-image-r\" in dir_name:\n",
    "                    missing_files.append(os.path.join(subdir, dir_name))\n",
    "                if \"-image-z\" in dir_name:\n",
    "                    missing_files.append(os.path.join(subdir, dir_name))\n",
    "    return missing_files\n",
    "base_directory = \"/data1/DECaLS/data_fits/\"\n",
    "missing_fits_files = find_missing_fits_files(base_directory)"
   ]
  },
  {
   "cell_type": "code",
   "execution_count": 76,
   "metadata": {
    "ExecuteTime": {
     "end_time": "2023-11-14T07:15:52.262102700Z",
     "start_time": "2023-11-14T07:15:52.221239500Z"
    },
    "collapsed": false
   },
   "outputs": [
    {
     "data": {
      "text/plain": [
       "'https://portal.nersc.gov/cfs/cosmo/data/legacysurvey/dr9/south/coadd/000/0001m322/legacysurvey-0001m322-image-g.fits.fz'"
      ]
     },
     "execution_count": 76,
     "metadata": {},
     "output_type": "execute_result"
    }
   ],
   "source": [
    "coadd_urls = []\n",
    "for i in range(len(missing_fits_files)):\n",
    "    coadd_urls.append(f\"https://portal.nersc.gov/cfs/cosmo/data/legacysurvey/dr9/south/coadd/{missing_fits_files[i].split('/')[-1].split('-')[1][:3]}/{missing_fits_files[i].split('/')[-1].split('-')[1]}/{missing_fits_files[i].split('/')[-1]}.fits.fz\")\n",
    "coadd_urls[0]\n",
    "# https://portal.nersc.gov/cfs/cosmo/data/legacysurvey/dr9/south/coadd/000/0001m002/legacysurvey-0001m002-image-g.fits.fz"
   ]
  },
  {
   "cell_type": "code",
   "execution_count": 77,
   "metadata": {
    "ExecuteTime": {
     "end_time": "2023-11-14T07:15:56.065705200Z",
     "start_time": "2023-11-14T07:15:56.045773200Z"
    },
    "collapsed": false
   },
   "outputs": [
    {
     "data": {
      "text/plain": [
       "'legacysurvey-0001m322-image-g.fits.fz'"
      ]
     },
     "execution_count": 77,
     "metadata": {},
     "output_type": "execute_result"
    }
   ],
   "source": [
    "coadd_urls[0].split('/')[-1]"
   ]
  },
  {
   "cell_type": "code",
   "execution_count": 78,
   "metadata": {
    "ExecuteTime": {
     "end_time": "2023-11-14T22:30:53.001019100Z",
     "start_time": "2023-11-14T07:15:58.788801300Z"
    },
    "collapsed": false
   },
   "outputs": [
    {
     "name": "stderr",
     "output_type": "stream",
     "text": [
      "100%|██████████| 21770/21770 [15:14:53<00:00,  2.52s/it]   \n"
     ]
    }
   ],
   "source": [
    "import requests\n",
    "from astropy.io import fits\n",
    "import numpy as np\n",
    "import pandas as pd\n",
    "from tqdm import tqdm\n",
    "with open(f\"/data1/public/urls.txt\", \"w\") as w:\n",
    "    for i in tqdm(range(len(coadd_urls))):\n",
    "        r = requests.get(coadd_urls[i])\n",
    "        if r.status_code == 200:\n",
    "            w.write(f\"'{coadd_urls[i]}' /data1/DECaLS/data_fits/{coadd_urls[0].split('coadd/')[1].split('/')[0]}/{coadd_urls[0].split('/')[-1].split('.fits.fz')[0][:-2]}/{coadd_urls[0].split('/')[-1]}\\n\")"
   ]
  },
  {
   "cell_type": "code",
   "execution_count": 44,
   "metadata": {
    "ExecuteTime": {
     "end_time": "2023-11-14T06:59:18.456519100Z",
     "start_time": "2023-11-14T06:59:18.444052300Z"
    },
    "collapsed": false
   },
   "outputs": [
    {
     "data": {
      "text/plain": [
       "'legacysurvey-0007p345-image-g'"
      ]
     },
     "execution_count": 44,
     "metadata": {},
     "output_type": "execute_result"
    }
   ],
   "source": [
    "missing_fits_files[i].split('/')[-1]"
   ]
  },
  {
   "cell_type": "code",
   "execution_count": 31,
   "metadata": {
    "ExecuteTime": {
     "end_time": "2023-11-14T06:35:30.081833900Z",
     "start_time": "2023-11-14T06:35:30.039465800Z"
    },
    "collapsed": false
   },
   "outputs": [
    {
     "data": {
      "text/plain": [
       "'/data1/DECaLS/data_fits/000/legacysurvey-0001m322-image/legacysurvey-0001m322-image-g'"
      ]
     },
     "execution_count": 31,
     "metadata": {},
     "output_type": "execute_result"
    }
   ],
   "source": [
    "missing_fits_files[0]"
   ]
  },
  {
   "cell_type": "code",
   "execution_count": 46,
   "metadata": {
    "ExecuteTime": {
     "end_time": "2023-11-14T01:03:30.550293200Z",
     "start_time": "2023-11-14T01:03:30.480449200Z"
    },
    "collapsed": false
   },
   "outputs": [
    {
     "data": {
      "text/plain": [
       "0"
      ]
     },
     "execution_count": 46,
     "metadata": {},
     "output_type": "execute_result"
    }
   ],
   "source": [
    "os.system(f\"cp /data1/DECaLS/data_fits/{bright_id['brickname'][i][:3]}/legacysurvey-{bright_id['brickname'][i]}-image/legacysurvey-{bright_id['brickname'][i]}-image-r.fits /data/public/renhaoye/\")"
   ]
  },
  {
   "cell_type": "code",
   "execution_count": null,
   "metadata": {
    "ExecuteTime": {
     "end_time": "2023-11-13T12:27:16.467551100Z",
     "start_time": "2023-11-13T12:21:15.260411Z"
    },
    "collapsed": false
   },
   "outputs": [],
   "source": [
    "overlap = match(df_in_decals, df_out_decals, 2, [\"in_ra\", \"in_dec\"]).drop(columns=[\"ra\", \"dec\"]).rename(columns={\"in_ra\":\"ra\", \"in_dec\":\"dec\"})"
   ]
  },
  {
   "cell_type": "code",
   "execution_count": 91,
   "metadata": {
    "ExecuteTime": {
     "end_time": "2023-10-09T11:32:06.939021200Z",
     "start_time": "2023-10-09T11:32:06.108071Z"
    },
    "collapsed": false
   },
   "outputs": [],
   "source": [
    "# from desitarget.targetmask import bgs_mask as Mx\n",
    "# with fits.open(\"/data1/public/BGS/BGS_BRIGHT.fits\") as hdul:\n",
    "#     ra = np.array(hdul[1].data[\"RA      \"])\n",
    "#     dec = np.array(hdul[1].data[\"DEC     \"])\n",
    "#     target = np.array(hdul[1].data[\"BGS_TARGET\"])\n",
    "#     is_north = (target & Mx[\"BGS_BRIGHT_NORTH\"]) != 0\n",
    "#     is_south = (target & Mx[\"BGS_BRIGHT_SOUTH\"]) != 0\n",
    "#     south = pd.DataFrame(np.array((ra[is_south], dec[is_south])).T, columns=[\"ra\", \"dec\"])\n",
    "#     north = pd.DataFrame(np.array((ra[is_north], dec[is_north])).T, columns=[\"ra\", \"dec\"])"
   ]
  },
  {
   "cell_type": "code",
   "execution_count": 3,
   "metadata": {
    "ExecuteTime": {
     "end_time": "2023-11-26T08:18:12.039171300Z",
     "start_time": "2023-11-26T08:18:07.569781900Z"
    },
    "collapsed": false
   },
   "outputs": [
    {
     "data": {
      "text/plain": [
       "633568"
      ]
     },
     "execution_count": 3,
     "metadata": {},
     "output_type": "execute_result"
    }
   ],
   "source": [
    "import pandas as pd\n",
    "imaging = fits.open(\"/data/public/renhaoye/object_sdss_imaging.fits\")\n",
    "imaging = imaging[1].data\n",
    "spec = fits.open(\"/data/public/renhaoye/object_sdss_spectro.fits\")\n",
    "spec = spec[1].data\n",
    "ra = np.array(imaging[\"ra\"])\n",
    "dec = np.array(imaging[\"dec\"])\n",
    "model_flux = np.array(imaging[\"MODELFLUX\"][:,2])\n",
    "\n",
    "model_flux[model_flux <= 0] = np.nan\n",
    "model_mag = -2.5 * np.log10(model_flux) + 22.5\n",
    "petro_flux = np.array(imaging[\"PETROFLUX\"][:,2])\n",
    "petro_flux[petro_flux <= 0] = np.nan\n",
    "petro_mag = -2.5 * np.log10(petro_flux) + 22.5\n",
    "VAGC_SELECT = np.array(imaging[\"VAGC_SELECT\"])\n",
    "z = np.array(spec[\"Z\"])\n",
    "# ra.shape, dec.shape, model_flux.shape, petro_flux.shape, VAGC_SELECT.shape, z.shape\n",
    "\n",
    "vagc = pd.DataFrame(np.array((ra, dec, model_mag, petro_mag, VAGC_SELECT, z)).T, columns=[\"ra\", \"dec\", \"model_mag\", \"petro_mag\", \"VAGC_SELECT\", \"z\"])\n",
    "vagc[\"VAGC_SELECT\"] = vagc[\"VAGC_SELECT\"].astype(int)\n",
    "flux_redux = vagc[vagc[\"VAGC_SELECT\"] & 4 != 0].query(\"z<0.5 and z!=0 and petro_mag<17.77\")\n",
    "len(flux_redux)"
   ]
  },
  {
   "cell_type": "code",
   "execution_count": 4,
   "metadata": {
    "ExecuteTime": {
     "end_time": "2023-11-26T08:18:52.957397900Z",
     "start_time": "2023-11-26T08:18:12.041170800Z"
    },
    "collapsed": false
   },
   "outputs": [],
   "source": [
    "bright_id = pd.read_parquet(\"/data1/public/BGS/sim_z/south/bright_id.parquet\")\n",
    "bright_id[\"ra\"] = bright_id[\"ra\"].astype(float)\n",
    "bright_id[\"dec\"] = bright_id[\"dec\"].astype(float)"
   ]
  },
  {
   "cell_type": "code",
   "execution_count": 4,
   "metadata": {
    "ExecuteTime": {
     "end_time": "2023-11-21T06:51:39.192922200Z",
     "start_time": "2023-11-21T06:51:39.157230300Z"
    },
    "collapsed": false
   },
   "outputs": [
    {
     "data": {
      "text/html": [
       "<div>\n",
       "<style scoped>\n",
       "    .dataframe tbody tr th:only-of-type {\n",
       "        vertical-align: middle;\n",
       "    }\n",
       "\n",
       "    .dataframe tbody tr th {\n",
       "        vertical-align: top;\n",
       "    }\n",
       "\n",
       "    .dataframe thead th {\n",
       "        text-align: right;\n",
       "    }\n",
       "</style>\n",
       "<table border=\"1\" class=\"dataframe\">\n",
       "  <thead>\n",
       "    <tr style=\"text-align: right;\">\n",
       "      <th></th>\n",
       "      <th>ra</th>\n",
       "      <th>dec</th>\n",
       "      <th>release</th>\n",
       "      <th>brickid</th>\n",
       "      <th>brickname</th>\n",
       "      <th>brickobjid</th>\n",
       "      <th>flux_g</th>\n",
       "      <th>flux_r</th>\n",
       "      <th>flux_z</th>\n",
       "    </tr>\n",
       "  </thead>\n",
       "  <tbody>\n",
       "    <tr>\n",
       "      <th>0</th>\n",
       "      <td>328.715625</td>\n",
       "      <td>27.634326</td>\n",
       "      <td>9010</td>\n",
       "      <td>485467</td>\n",
       "      <td>3288p277</td>\n",
       "      <td>579</td>\n",
       "      <td>18.243229</td>\n",
       "      <td>52.62409</td>\n",
       "      <td>106.959114</td>\n",
       "    </tr>\n",
       "    <tr>\n",
       "      <th>1</th>\n",
       "      <td>328.946676</td>\n",
       "      <td>27.646609</td>\n",
       "      <td>9010</td>\n",
       "      <td>485467</td>\n",
       "      <td>3288p277</td>\n",
       "      <td>4861</td>\n",
       "      <td>5.6847825</td>\n",
       "      <td>14.367889</td>\n",
       "      <td>26.101847</td>\n",
       "    </tr>\n",
       "    <tr>\n",
       "      <th>2</th>\n",
       "      <td>328.956746</td>\n",
       "      <td>27.646560</td>\n",
       "      <td>9010</td>\n",
       "      <td>485467</td>\n",
       "      <td>3288p277</td>\n",
       "      <td>5074</td>\n",
       "      <td>4.053525</td>\n",
       "      <td>14.938572</td>\n",
       "      <td>30.832163</td>\n",
       "    </tr>\n",
       "    <tr>\n",
       "      <th>3</th>\n",
       "      <td>328.717052</td>\n",
       "      <td>27.620984</td>\n",
       "      <td>9010</td>\n",
       "      <td>484190</td>\n",
       "      <td>3286p275</td>\n",
       "      <td>5423</td>\n",
       "      <td>27.474945</td>\n",
       "      <td>52.488815</td>\n",
       "      <td>87.24483</td>\n",
       "    </tr>\n",
       "    <tr>\n",
       "      <th>4</th>\n",
       "      <td>328.747144</td>\n",
       "      <td>27.605519</td>\n",
       "      <td>9010</td>\n",
       "      <td>484190</td>\n",
       "      <td>3286p275</td>\n",
       "      <td>6239</td>\n",
       "      <td>84.30101</td>\n",
       "      <td>200.85835</td>\n",
       "      <td>379.93805</td>\n",
       "    </tr>\n",
       "  </tbody>\n",
       "</table>\n",
       "</div>"
      ],
      "text/plain": [
       "           ra        dec release brickid brickname brickobjid     flux_g  \\\n",
       "0  328.715625  27.634326    9010  485467  3288p277        579  18.243229   \n",
       "1  328.946676  27.646609    9010  485467  3288p277       4861  5.6847825   \n",
       "2  328.956746  27.646560    9010  485467  3288p277       5074   4.053525   \n",
       "3  328.717052  27.620984    9010  484190  3286p275       5423  27.474945   \n",
       "4  328.747144  27.605519    9010  484190  3286p275       6239   84.30101   \n",
       "\n",
       "      flux_r      flux_z  \n",
       "0   52.62409  106.959114  \n",
       "1  14.367889   26.101847  \n",
       "2  14.938572   30.832163  \n",
       "3  52.488815    87.24483  \n",
       "4  200.85835   379.93805  "
      ]
     },
     "execution_count": 4,
     "metadata": {},
     "output_type": "execute_result"
    }
   ],
   "source": [
    "bright_id.head()"
   ]
  },
  {
   "cell_type": "code",
   "execution_count": null,
   "metadata": {
    "ExecuteTime": {
     "start_time": "2023-11-26T08:19:00.772800800Z"
    },
    "collapsed": false,
    "is_executing": true
   },
   "outputs": [],
   "source": [
    "redshift = match(bright_id, flux_redux, 2, [\"in_ra\", \"in_dec\"]).drop(columns=[\"ra\", \"dec\"]).rename(columns={\"in_ra\":\"ra\", \"in_dec\":\"dec\"})\n",
    "redshift.to_parquet(\"/data1/public/BGS/sim_z/south/redshift.parquet\")"
   ]
  },
  {
   "cell_type": "code",
   "execution_count": 5,
   "metadata": {
    "ExecuteTime": {
     "end_time": "2023-11-02T05:05:53.992294600Z",
     "start_time": "2023-11-02T05:05:34.176639600Z"
    },
    "collapsed": false
   },
   "outputs": [],
   "source": [
    "\"\"\"标签里面实际的MGS坐标\"\"\"\n",
    "labels = match(flux_redux, df_c, 2, [\"in_ra\", \"in_dec\"]).drop(columns=[\"ra\", \"dec\"]).rename(columns={\"in_ra\":\"ra\", \"in_dec\":\"dec\"})"
   ]
  },
  {
   "cell_type": "code",
   "execution_count": 6,
   "metadata": {
    "ExecuteTime": {
     "end_time": "2023-11-02T05:05:54.001263600Z",
     "start_time": "2023-11-02T05:05:53.994287900Z"
    },
    "collapsed": false
   },
   "outputs": [
    {
     "data": {
      "text/plain": [
       "185512"
      ]
     },
     "execution_count": 6,
     "metadata": {},
     "output_type": "execute_result"
    }
   ],
   "source": [
    "len(labels)"
   ]
  },
  {
   "cell_type": "code",
   "execution_count": 7,
   "metadata": {
    "ExecuteTime": {
     "end_time": "2023-11-02T05:06:15.857916600Z",
     "start_time": "2023-11-02T05:05:54.001263600Z"
    },
    "collapsed": false
   },
   "outputs": [],
   "source": [
    "overlap = match(overlap, flux_redux, 2, [\"in_ra\", \"in_dec\"]).drop(columns=[\"ra\", \"dec\"]).rename(columns={\"in_ra\":\"ra\", \"in_dec\":\"dec\"})"
   ]
  },
  {
   "cell_type": "code",
   "execution_count": 8,
   "metadata": {
    "ExecuteTime": {
     "end_time": "2023-11-02T05:11:02.367707500Z",
     "start_time": "2023-11-02T05:06:15.863896700Z"
    },
    "collapsed": false
   },
   "outputs": [
    {
     "data": {
      "text/plain": [
       "182108"
      ]
     },
     "execution_count": 8,
     "metadata": {},
     "output_type": "execute_result"
    }
   ],
   "source": [
    "\"\"\"labels中替换为实际下载的坐标\"\"\"\n",
    "labels = match(df_in_decals, labels, 2, [\"in_ra\", \"in_dec\"]).drop(columns=[\"ra\", \"dec\"]).rename(columns={\"in_ra\":\"ra\", \"in_dec\":\"dec\"})\n",
    "len(labels)"
   ]
  },
  {
   "cell_type": "code",
   "execution_count": 22,
   "metadata": {
    "ExecuteTime": {
     "end_time": "2023-10-09T12:06:37.062779400Z",
     "start_time": "2023-10-09T12:06:36.940003800Z"
    },
    "collapsed": false
   },
   "outputs": [
    {
     "data": {
      "text/html": [
       "<div>\n",
       "<style scoped>\n",
       "    .dataframe tbody tr th:only-of-type {\n",
       "        vertical-align: middle;\n",
       "    }\n",
       "\n",
       "    .dataframe tbody tr th {\n",
       "        vertical-align: top;\n",
       "    }\n",
       "\n",
       "    .dataframe thead th {\n",
       "        text-align: right;\n",
       "    }\n",
       "</style>\n",
       "<table border=\"1\" class=\"dataframe\">\n",
       "  <thead>\n",
       "    <tr style=\"text-align: right;\">\n",
       "      <th></th>\n",
       "      <th>ra</th>\n",
       "      <th>dec</th>\n",
       "      <th>model_mag</th>\n",
       "      <th>petro_mag</th>\n",
       "      <th>VAGC_SELECT</th>\n",
       "      <th>z</th>\n",
       "      <th>redshift</th>\n",
       "      <th>elpetro_absmag_r</th>\n",
       "      <th>sersic_nmgy_r</th>\n",
       "      <th>petro_th50</th>\n",
       "      <th>...</th>\n",
       "      <th>spiral_arm_count_cant_tell_fraction</th>\n",
       "      <th>merging_total_votes</th>\n",
       "      <th>merging_none</th>\n",
       "      <th>merging_none_fraction</th>\n",
       "      <th>merging_minor_disturbance</th>\n",
       "      <th>merging_minor_disturbance_fraction</th>\n",
       "      <th>merging_major_disturbance</th>\n",
       "      <th>merging_major_disturbance_fraction</th>\n",
       "      <th>merging_merger</th>\n",
       "      <th>merging_merger_fraction</th>\n",
       "    </tr>\n",
       "  </thead>\n",
       "  <tbody>\n",
       "    <tr>\n",
       "      <th>0</th>\n",
       "      <td>170.218768</td>\n",
       "      <td>-0.013460</td>\n",
       "      <td>17.223270</td>\n",
       "      <td>17.133684</td>\n",
       "      <td>7</td>\n",
       "      <td>0.101379</td>\n",
       "      <td>0.101379</td>\n",
       "      <td>-20.600037</td>\n",
       "      <td>146.46266</td>\n",
       "      <td>2.029412</td>\n",
       "      <td>...</td>\n",
       "      <td>0.0000</td>\n",
       "      <td>83</td>\n",
       "      <td>77</td>\n",
       "      <td>0.927711</td>\n",
       "      <td>6</td>\n",
       "      <td>0.072289</td>\n",
       "      <td>0</td>\n",
       "      <td>0.000000</td>\n",
       "      <td>0</td>\n",
       "      <td>0.000000</td>\n",
       "    </tr>\n",
       "    <tr>\n",
       "      <th>1</th>\n",
       "      <td>142.050836</td>\n",
       "      <td>3.408374</td>\n",
       "      <td>13.329250</td>\n",
       "      <td>13.416680</td>\n",
       "      <td>7</td>\n",
       "      <td>0.011646</td>\n",
       "      <td>0.011646</td>\n",
       "      <td>-19.568924</td>\n",
       "      <td>6257.40800</td>\n",
       "      <td>4.424213</td>\n",
       "      <td>...</td>\n",
       "      <td>0.0000</td>\n",
       "      <td>30</td>\n",
       "      <td>6</td>\n",
       "      <td>0.200000</td>\n",
       "      <td>1</td>\n",
       "      <td>0.033333</td>\n",
       "      <td>0</td>\n",
       "      <td>0.000000</td>\n",
       "      <td>0</td>\n",
       "      <td>0.000000</td>\n",
       "    </tr>\n",
       "    <tr>\n",
       "      <th>2</th>\n",
       "      <td>327.156886</td>\n",
       "      <td>-0.028448</td>\n",
       "      <td>17.614122</td>\n",
       "      <td>17.642162</td>\n",
       "      <td>7</td>\n",
       "      <td>0.101933</td>\n",
       "      <td>0.101933</td>\n",
       "      <td>-20.519157</td>\n",
       "      <td>131.61974</td>\n",
       "      <td>2.818087</td>\n",
       "      <td>...</td>\n",
       "      <td>0.0000</td>\n",
       "      <td>3</td>\n",
       "      <td>2</td>\n",
       "      <td>0.666667</td>\n",
       "      <td>1</td>\n",
       "      <td>0.333333</td>\n",
       "      <td>0</td>\n",
       "      <td>0.000000</td>\n",
       "      <td>0</td>\n",
       "      <td>0.000000</td>\n",
       "    </tr>\n",
       "    <tr>\n",
       "      <th>3</th>\n",
       "      <td>144.649147</td>\n",
       "      <td>-0.044282</td>\n",
       "      <td>16.646351</td>\n",
       "      <td>16.613226</td>\n",
       "      <td>7</td>\n",
       "      <td>0.078931</td>\n",
       "      <td>0.078931</td>\n",
       "      <td>-20.691664</td>\n",
       "      <td>305.18304</td>\n",
       "      <td>3.862174</td>\n",
       "      <td>...</td>\n",
       "      <td>0.3125</td>\n",
       "      <td>38</td>\n",
       "      <td>29</td>\n",
       "      <td>0.763158</td>\n",
       "      <td>7</td>\n",
       "      <td>0.184211</td>\n",
       "      <td>1</td>\n",
       "      <td>0.026316</td>\n",
       "      <td>1</td>\n",
       "      <td>0.026316</td>\n",
       "    </tr>\n",
       "    <tr>\n",
       "      <th>4</th>\n",
       "      <td>199.918663</td>\n",
       "      <td>-0.019301</td>\n",
       "      <td>17.520473</td>\n",
       "      <td>17.717518</td>\n",
       "      <td>7</td>\n",
       "      <td>0.109077</td>\n",
       "      <td>0.109077</td>\n",
       "      <td>-20.190125</td>\n",
       "      <td>94.87379</td>\n",
       "      <td>1.869494</td>\n",
       "      <td>...</td>\n",
       "      <td>0.0000</td>\n",
       "      <td>75</td>\n",
       "      <td>68</td>\n",
       "      <td>0.906667</td>\n",
       "      <td>5</td>\n",
       "      <td>0.066667</td>\n",
       "      <td>1</td>\n",
       "      <td>0.013333</td>\n",
       "      <td>1</td>\n",
       "      <td>0.013333</td>\n",
       "    </tr>\n",
       "  </tbody>\n",
       "</table>\n",
       "<p>5 rows × 94 columns</p>\n",
       "</div>"
      ],
      "text/plain": [
       "           ra       dec  model_mag  petro_mag  VAGC_SELECT         z  \\\n",
       "0  170.218768 -0.013460  17.223270  17.133684            7  0.101379   \n",
       "1  142.050836  3.408374  13.329250  13.416680            7  0.011646   \n",
       "2  327.156886 -0.028448  17.614122  17.642162            7  0.101933   \n",
       "3  144.649147 -0.044282  16.646351  16.613226            7  0.078931   \n",
       "4  199.918663 -0.019301  17.520473  17.717518            7  0.109077   \n",
       "\n",
       "   redshift  elpetro_absmag_r  sersic_nmgy_r  petro_th50  ...  \\\n",
       "0  0.101379        -20.600037      146.46266    2.029412  ...   \n",
       "1  0.011646        -19.568924     6257.40800    4.424213  ...   \n",
       "2  0.101933        -20.519157      131.61974    2.818087  ...   \n",
       "3  0.078931        -20.691664      305.18304    3.862174  ...   \n",
       "4  0.109077        -20.190125       94.87379    1.869494  ...   \n",
       "\n",
       "   spiral_arm_count_cant_tell_fraction  merging_total_votes merging_none  \\\n",
       "0                               0.0000                   83           77   \n",
       "1                               0.0000                   30            6   \n",
       "2                               0.0000                    3            2   \n",
       "3                               0.3125                   38           29   \n",
       "4                               0.0000                   75           68   \n",
       "\n",
       "   merging_none_fraction  merging_minor_disturbance  \\\n",
       "0               0.927711                          6   \n",
       "1               0.200000                          1   \n",
       "2               0.666667                          1   \n",
       "3               0.763158                          7   \n",
       "4               0.906667                          5   \n",
       "\n",
       "  merging_minor_disturbance_fraction  merging_major_disturbance  \\\n",
       "0                           0.072289                          0   \n",
       "1                           0.033333                          0   \n",
       "2                           0.333333                          0   \n",
       "3                           0.184211                          1   \n",
       "4                           0.066667                          1   \n",
       "\n",
       "   merging_major_disturbance_fraction  merging_merger  merging_merger_fraction  \n",
       "0                            0.000000               0                 0.000000  \n",
       "1                            0.000000               0                 0.000000  \n",
       "2                            0.000000               0                 0.000000  \n",
       "3                            0.026316               1                 0.026316  \n",
       "4                            0.013333               1                 0.013333  \n",
       "\n",
       "[5 rows x 94 columns]"
      ]
     },
     "execution_count": 22,
     "metadata": {},
     "output_type": "execute_result"
    }
   ],
   "source": [
    "labels.head()"
   ]
  },
  {
   "cell_type": "code",
   "execution_count": 9,
   "metadata": {
    "ExecuteTime": {
     "end_time": "2023-11-02T05:17:40.781833Z",
     "start_time": "2023-11-02T05:11:02.393620800Z"
    },
    "collapsed": false
   },
   "outputs": [],
   "source": [
    "out_decals = match(df_out_decals, flux_redux, 2, [\"in_ra\", \"in_dec\"]).drop(columns=[\"ra\", \"dec\"]).rename(columns={\"in_ra\":\"ra\", \"in_dec\":\"dec\"})\n",
    "in_decals = match(df_in_decals, flux_redux, 2, [\"in_ra\", \"in_dec\"]).drop(columns=[\"ra\", \"dec\"]).rename(columns={\"in_ra\":\"ra\", \"in_dec\":\"dec\"})\n",
    "merged_df = pd.merge(labels, in_decals, how='outer', indicator=True)\n",
    "decals_unlabelled = merged_df[merged_df['_merge'] == 'right_only']\n",
    "decals_unlabelled = decals_unlabelled.drop(columns=['_merge'])"
   ]
  },
  {
   "cell_type": "code",
   "execution_count": 37,
   "metadata": {
    "collapsed": false
   },
   "outputs": [
    {
     "data": {
      "text/plain": [
       "(180807, 214600, 394465, 213658)"
      ]
     },
     "execution_count": 37,
     "metadata": {},
     "output_type": "execute_result"
    }
   ],
   "source": [
    "len(labels), len(out_decals), len(in_decals),len(decals_unlabelled)"
   ]
  },
  {
   "cell_type": "code",
   "execution_count": 25,
   "metadata": {
    "ExecuteTime": {
     "end_time": "2023-11-02T05:35:56.205009Z",
     "start_time": "2023-11-02T05:35:55.948448Z"
    },
    "collapsed": false
   },
   "outputs": [
    {
     "data": {
      "image/png": "[encoded data removed]",
      "text/plain": [
       "<Figure size 1800x600 with 2 Axes>"
      ]
     },
     "metadata": {},
     "output_type": "display_data"
    }
   ],
   "source": [
    "plt.figure(figsize=(6, 2), dpi=300)\n",
    "plt.subplot(1, 2, 1)\n",
    "plt.hist(in_decals.petro_mag, bins=50, histtype='step', label=\"DECaLS\", alpha=1, stacked=True, color=\"#2578b5\",density=True)\n",
    "plt.hist(out_decals.petro_mag, bins=50, histtype='step', label=\"BASS+MzLS\", alpha=1, stacked=True, color=\"#f07544\",density=True)\n",
    "plt.xlabel(\"r-band Petrosian magnitude\")\n",
    "plt.xlim((14, 18))\n",
    "plt.subplot(1, 2, 2)\n",
    "plt.hist(in_decals.z, bins=50, histtype='step', label=\"DECaLS\", alpha=1, stacked=True, color=\"#2578b5\",density=True)\n",
    "plt.hist(out_decals.z, bins=50, histtype='step', label=\"BASS+MzLS\", alpha=1, stacked=True, color=\"#f07544\",density=True)\n",
    "plt.legend(fontsize=7)\n",
    "plt.xlim((0, 0.3))\n",
    "plt.tight_layout()\n",
    "plt.xlabel(\"redshift\")\n",
    "plt.show()"
   ]
  },
  {
   "cell_type": "code",
   "execution_count": 16,
   "metadata": {
    "ExecuteTime": {
     "end_time": "2023-08-15T06:48:30.678998500Z",
     "start_time": "2023-08-15T06:48:28.570301700Z"
    },
    "collapsed": false
   },
   "outputs": [
    {
     "data": {
      "image/png": "[encoded data removed]",
      "text/plain": [
       "<Figure size 1800x900 with 2 Axes>"
      ]
     },
     "metadata": {},
     "output_type": "display_data"
    }
   ],
   "source": [
    "plt.figure(figsize=(6, 3), dpi=300)\n",
    "plt.subplot(1, 2, 1)\n",
    "plt.hist([mgs_in_decals.petro_mag, mgs_out_decals.petro_mag], bins=50, histtype='bar', label=[\"BASS+MzLS\", \"DECaLS\"], alpha=0.7, stacked=True, color=[\"#2578b5\", \"#f07544\"])\n",
    "plt.xlabel(\"r-band Petrosian magnitude\")\n",
    "plt.xlim((14, 18))\n",
    "plt.subplot(1, 2, 2)\n",
    "plt.hist([mgs_in_decals.z, mgs_out_decals.z], bins=800, histtype='bar', label=[\"BASS+MzLS\", \"DECaLS\"], color=[\"#2578b5\", \"#f07544\"], alpha=0.7, stacked=True)\n",
    "plt.legend(fontsize=7)\n",
    "plt.xlim((0, 0.3))\n",
    "plt.tight_layout()\n",
    "plt.xlabel(\"redshift\")\n",
    "plt.show()"
   ]
  },
  {
   "cell_type": "code",
   "execution_count": 39,
   "metadata": {
    "ExecuteTime": {
     "end_time": "2023-10-09T12:24:56.280524800Z",
     "start_time": "2023-10-09T12:24:56.230769Z"
    },
    "collapsed": false
   },
   "outputs": [],
   "source": [
    "def get_each_question(df_c, votes):\n",
    "    return df_c.query(\"smooth_or_featured_total_votes >= %d\" % votes),\\\n",
    "           df_c.query(\"disk_edge_on_total_votes >= %d\" % votes),\\\n",
    "           df_c.query(\"has_spiral_arms_total_votes >= %d\" % votes),\\\n",
    "           df_c.query(\"bar_total_votes >= %d\" % votes),\\\n",
    "           df_c.query(\"bulge_size_total_votes >= %d\" % votes),\\\n",
    "           df_c.query(\"how_rounded_total_votes >= %d\" % votes),\\\n",
    "           df_c.query(\"edge_on_bulge_total_votes >= %d\" % votes),\\\n",
    "           df_c.query(\"spiral_winding_total_votes >= %d\" % votes),\\\n",
    "           df_c.query(\"spiral_arm_count_total_votes >= %d\" % votes),\\\n",
    "           df_c.query(\"merging_total_votes >= %d\" % votes)\n",
    "def get_total_question(df, votes, operator):\n",
    "    if operator == \">=\":\n",
    "        # return df.query(\"smooth_or_featured_total_votes >= %d | disk_edge_on_total_votes >= %d | has_spiral_arms_total_votes >= %d | bar_total_votes >= %d | bulge_size_total_votes >= %d | how_rounded_total_votes >= %d | edge_on_bulge_total_votes >= %d | spiral_winding_total_votes >= %d | spiral_arm_count_total_votes >= %d | merging_total_votes >= %d\" %(votes, votes, votes, votes, votes, votes, votes, votes, votes, votes))\n",
    "        return df.query(\"smooth_or_featured_total_votes >= %d\" %(votes))\n",
    "    if operator == \"<=\":\n",
    "        return df.query(\"smooth_or_featured_total_votes >= 3 | disk_edge_on_total_votes >= 3 | has_spiral_arms_total_votes >= 3 | bar_total_votes >= 3 | bulge_size_total_votes >= 3 | how_rounded_total_votes >= 3 | edge_on_bulge_total_votes >= 3 | spiral_winding_total_votes >= 3 | spiral_arm_count_total_votes >= 3 | merging_total_votes >= 3\").query(\"smooth_or_featured_total_votes <= %d | disk_edge_on_total_votes <= %d | has_spiral_arms_total_votes <= %d | bar_total_votes <= %d | bulge_size_total_votes <= %d | how_rounded_total_votes <= %d | edge_on_bulge_total_votes <= %d | spiral_winding_total_votes <= %d | spiral_arm_count_total_votes <= %d | merging_total_votes <= %d\" %(votes, votes, votes, votes, votes, votes, votes, votes, votes, votes))"
   ]
  },
  {
   "cell_type": "code",
   "execution_count": 25,
   "metadata": {
    "ExecuteTime": {
     "end_time": "2023-10-09T12:15:25.377672Z",
     "start_time": "2023-10-09T12:15:24.799968900Z"
    },
    "collapsed": false
   },
   "outputs": [
    {
     "data": {
      "text/plain": [
       "(409270, 227466, 375377, 381599, 199795)"
      ]
     },
     "execution_count": 25,
     "metadata": {},
     "output_type": "execute_result"
    }
   ],
   "source": [
    "# in_decals = match(mgs_in_decals, df_c, 2, [\"real_ra\", \"real_dec\"]).drop(columns=[\"ra\", \"dec\"]).rename(columns={\"real_ra\":\"ra\", \"real_dec\":\"dec\"})\n",
    "# out_decals = match(mgs_out_decals, df_c, 2, [\"real_ra\", \"real_dec\"]).drop(columns=[\"ra\", \"dec\"]).rename(columns={\"real_ra\":\"ra\", \"real_dec\":\"dec\"})\n",
    "# overlap = match(in_decals[[\"ra\", \"dec\"]], out_decals, 2, [\"in_ra\", \"in_dec\"]).drop(columns=[\"ra\", \"dec\"]).rename(columns={\"in_ra\":\"ra\", \"in_dec\":\"dec\"})\n",
    "only_in_decals = pd.concat([in_decals, out_decals, out_decals]).drop_duplicates(keep=False)\n",
    "only_out_decals = pd.concat([out_decals, in_decals, in_decals]).drop_duplicates(keep=False)\n",
    "len(in_decals), len(out_decals), len(overlap), len(only_in_decals), len(only_out_decals)"
   ]
  },
  {
   "cell_type": "code",
   "execution_count": 31,
   "metadata": {
    "ExecuteTime": {
     "end_time": "2023-10-09T12:21:18.920531400Z",
     "start_time": "2023-10-09T12:21:06.283433500Z"
    },
    "collapsed": false
   },
   "outputs": [],
   "source": [
    "only_in_decals_labels = match(labels, only_in_decals, 2, [\"in_ra\", \"in_dec\"]).drop(columns=[\"ra\", \"dec\"]).rename(columns={\"in_ra\":\"ra\", \"in_dec\":\"dec\"})"
   ]
  },
  {
   "cell_type": "code",
   "execution_count": 33,
   "metadata": {
    "ExecuteTime": {
     "end_time": "2023-10-09T12:21:35.247686500Z",
     "start_time": "2023-10-09T12:21:35.223819300Z"
    },
    "collapsed": false
   },
   "outputs": [],
   "source": [
    "def count_rows_with_votes_over_34(df,votes):\n",
    "    columns = [\"smooth_or_featured_total_votes\", \"disk_edge_on_total_votes\",\n",
    "               \"has_spiral_arms_total_votes\", \"bar_total_votes\",\n",
    "               \"bulge_size_total_votes\", \"how_rounded_total_votes\",\n",
    "               \"edge_on_bulge_total_votes\", \"spiral_winding_total_votes\",\n",
    "               \"spiral_arm_count_total_votes\", \"merging_total_votes\"]\n",
    "    result = {}\n",
    "    for column in columns:\n",
    "        result[column] = df[df[column] >= votes].shape[0]\n",
    "    return result"
   ]
  },
  {
   "cell_type": "code",
   "execution_count": 34,
   "metadata": {
    "ExecuteTime": {
     "end_time": "2023-10-09T12:21:39.371772900Z",
     "start_time": "2023-10-09T12:21:39.238676700Z"
    },
    "collapsed": false
   },
   "outputs": [
    {
     "data": {
      "text/plain": [
       "{'smooth_or_featured_total_votes': 174968,\n",
       " 'disk_edge_on_total_votes': 84089,\n",
       " 'has_spiral_arms_total_votes': 68801,\n",
       " 'bar_total_votes': 68801,\n",
       " 'bulge_size_total_votes': 68801,\n",
       " 'how_rounded_total_votes': 127819,\n",
       " 'edge_on_bulge_total_votes': 19981,\n",
       " 'spiral_winding_total_votes': 39698,\n",
       " 'spiral_arm_count_total_votes': 39698,\n",
       " 'merging_total_votes': 172412}"
      ]
     },
     "execution_count": 34,
     "metadata": {},
     "output_type": "execute_result"
    }
   ],
   "source": [
    "count_rows_with_votes_over_34(only_in_decals_labels,3)"
   ]
  },
  {
   "cell_type": "code",
   "execution_count": 57,
   "metadata": {
    "ExecuteTime": {
     "end_time": "2023-10-09T23:53:16.663592300Z",
     "start_time": "2023-10-09T23:53:16.568556Z"
    },
    "collapsed": false
   },
   "outputs": [
    {
     "data": {
      "text/plain": [
       "(174968, 0.02789081432033286)"
      ]
     },
     "execution_count": 57,
     "metadata": {},
     "output_type": "execute_result"
    }
   ],
   "source": [
    "only_in_decals_data = get_total_question(only_in_decals_labels, 3, \">=\")\n",
    "len(only_in_decals_data), len(overlap)/len(only_in_decals_data)"
   ]
  },
  {
   "cell_type": "code",
   "execution_count": 44,
   "metadata": {
    "ExecuteTime": {
     "end_time": "2023-10-09T12:27:03.460821700Z",
     "start_time": "2023-10-09T12:26:50.603167500Z"
    },
    "collapsed": false
   },
   "outputs": [],
   "source": [
    "overlap_labels = match(labels, overlap, 2, [\"in_ra\", \"in_dec\"]).drop(columns=[\"ra\", \"dec\"]).rename(columns={\"in_ra\":\"ra\", \"in_dec\":\"dec\"})"
   ]
  },
  {
   "cell_type": "code",
   "execution_count": 45,
   "metadata": {
    "ExecuteTime": {
     "end_time": "2023-10-09T12:27:14.276909400Z",
     "start_time": "2023-10-09T12:27:14.255680700Z"
    },
    "collapsed": false
   },
   "outputs": [
    {
     "data": {
      "text/plain": [
       "375377"
      ]
     },
     "execution_count": 45,
     "metadata": {},
     "output_type": "execute_result"
    }
   ],
   "source": [
    "len(overlap)"
   ]
  },
  {
   "cell_type": "code",
   "execution_count": 59,
   "metadata": {
    "ExecuteTime": {
     "end_time": "2023-10-09T23:54:11.350217900Z",
     "start_time": "2023-10-09T23:54:11.228076700Z"
    },
    "collapsed": false
   },
   "outputs": [
    {
     "data": {
      "text/plain": [
       "(143473, 36375, 0.7977458742938481)"
      ]
     },
     "execution_count": 59,
     "metadata": {},
     "output_type": "execute_result"
    }
   ],
   "source": [
    "train, valid = train_test_split(only_in_decals_data, train_size=0.82, random_state=1926)\n",
    "valid = pd.concat([valid, overlap_labels])\n",
    "len(train), len(valid), len(train)/(len(valid)+len(train))"
   ]
  },
  {
   "cell_type": "code",
   "execution_count": 51,
   "metadata": {
    "ExecuteTime": {
     "end_time": "2023-10-09T12:31:56.949419500Z",
     "start_time": "2023-10-09T12:31:56.935590600Z"
    },
    "collapsed": false
   },
   "outputs": [],
   "source": [
    "question_answer_pairs = gz2_pairs\n",
    "dependencies = gz2_and_decals_dependencies\n",
    "schema = Schema(question_answer_pairs, dependencies)\n",
    "label_cols = schema.label_cols\n",
    "def get_galaxy_label(galaxy, label_cols):\n",
    "    return galaxy[label_cols].infer_objects().values.squeeze()  # squeeze for if there's one label_col"
   ]
  },
  {
   "cell_type": "code",
   "execution_count": 60,
   "metadata": {
    "ExecuteTime": {
     "end_time": "2023-10-09T23:56:24.372261700Z",
     "start_time": "2023-10-09T23:54:48.046808200Z"
    },
    "collapsed": false
   },
   "outputs": [],
   "source": [
    "func = [\"train\", \"valid\"]\n",
    "dataset = [train, valid]\n",
    "for i in range(len(func)):\n",
    "    with open(\"/data/public/renhaoye/mgs/%s_1009.txt\" % func[i] , \"w\") as w:\n",
    "        for j in range(len(dataset[i])):\n",
    "            ra, dec = str(dataset[i].iloc[j, 0]), str(dataset[i].iloc[j, 1]),\n",
    "            path = \"/data1/public/BGS/bgs_bright_south/\" + ra + \"_\" + dec + \".fits\"\n",
    "            if os.path.exists(path):\n",
    "                w.write(path + \" label:\")\n",
    "                for v in get_galaxy_label(dataset[i].iloc[j], label_cols):\n",
    "                    w.write(str(v) + \" \")\n",
    "                w.write(\" \\n\")\n",
    "            elif os.path.exists(f\"/data1/public/BGS/bgs_bright_south_overlap/{ra}_{dec}.fits\"):\n",
    "                w.write(f\"/data1/public/BGS/bgs_bright_south_overlap/{ra}_{dec}.fits\" + \" label:\")\n",
    "                for v in get_galaxy_label(dataset[i].iloc[j], label_cols):\n",
    "                    w.write(str(v) + \" \")\n",
    "                w.write(\" \\n\")\n",
    "            else:\n",
    "                print(path.split(\".fits\")[0])"
   ]
  },
  {
   "cell_type": "code",
   "execution_count": 16,
   "metadata": {
    "ExecuteTime": {
     "end_time": "2023-08-20T22:54:46.270032700Z",
     "start_time": "2023-08-20T22:54:44.428055700Z"
    },
    "collapsed": false
   },
   "outputs": [],
   "source": [
    "out_path = \"/data/public/renhaoye/morphics/dataset/in_decals/raw_fits/\"\n",
    "with open(\"/data/public/renhaoye/morphics/dataset/overlap_south_raw.txt\", \"w\") as w:\n",
    "    for j in range(len(overlap)):\n",
    "        ra, dec = str(overlap.iloc[j, 0]), str(overlap.iloc[j, 1]),   # 先拿坐标和标签，这一步仅适用于decals的，sdss匹配的不可以\n",
    "        path = out_path + ra + \"_\" + dec + \".fits\"\n",
    "        if os.path.exists(path):\n",
    "            w.write(path + \" label:\")\n",
    "            for v in get_galaxy_label(overlap.iloc[j], label_cols):\n",
    "                w.write(str(v) + \" \")\n",
    "            w.write(\" \\n\")\n",
    "        else:\n",
    "            print(path.split(\".fits\")[0])"
   ]
  },
  {
   "cell_type": "code",
   "execution_count": 17,
   "metadata": {
    "ExecuteTime": {
     "end_time": "2023-08-20T22:55:05.315968Z",
     "start_time": "2023-08-20T22:55:02.618137800Z"
    },
    "collapsed": false
   },
   "outputs": [],
   "source": [
    "out_path = \"/data/public/renhaoye/morphics/dataset/out_decals/raw_fits/\"\n",
    "with open(\"/data/public/renhaoye/morphics/dataset/overlap_north_raw.txt\", \"w\") as w:\n",
    "    for j in range(len(overlap)):\n",
    "        ra, dec = str(overlap.iloc[j, 0]), str(overlap.iloc[j, 1]),   # 先拿坐标和标签，这一步仅适用于decals的，sdss匹配的不可以\n",
    "        path = out_path + ra + \"_\" + dec + \".fits\"\n",
    "        if os.path.exists(path):\n",
    "            w.write(path + \" label:\")\n",
    "            for v in get_galaxy_label(overlap.iloc[j], label_cols):\n",
    "                w.write(str(v) + \" \")\n",
    "            w.write(\" \\n\")\n",
    "        else:\n",
    "            print(path.split(\".fits\")[0])"
   ]
  },
  {
   "cell_type": "code",
   "execution_count": 12,
   "metadata": {
    "collapsed": false
   },
   "outputs": [],
   "source": [
    "out_path = pkg + \"/data/out_decals/stretched/\"\n",
    "with open(pkg + \"data/overlap_north.txt\", \"w\") as w:\n",
    "    for j in range(len(overlap)):\n",
    "        ra, dec = str(overlap.iloc[j, 0]), str(overlap.iloc[j, 1]),   # 先拿坐标和标签，这一步仅适用于decals的，sdss匹配的不可以\n",
    "        path = out_path + ra + \"_\" + dec + \".fits\"\n",
    "        if os.path.exists(path):\n",
    "            w.write(path + \" label:\")\n",
    "            for v in get_galaxy_label(overlap.iloc[j], label_cols):\n",
    "                w.write(str(v) + \" \")\n",
    "            w.write(\" \\n\")\n",
    "        else:\n",
    "            print(path.split(\".fits\")[0])"
   ]
  },
  {
   "cell_type": "code",
   "execution_count": 13,
   "metadata": {
    "collapsed": false
   },
   "outputs": [],
   "source": [
    "out_path = pkg + \"/data/in_decals/stretched/\"\n",
    "with open(pkg + \"data/overlap_south.txt\", \"w\") as w:\n",
    "    for j in range(len(overlap)):\n",
    "        ra, dec = str(overlap.iloc[j, 0]), str(overlap.iloc[j, 1]),   # 先拿坐标和标签，这一步仅适用于decals的，sdss匹配的不可以\n",
    "        path = out_path + ra + \"_\" + dec + \".fits\"\n",
    "        if os.path.exists(path):\n",
    "            w.write(path + \" label:\")\n",
    "            for v in get_galaxy_label(overlap.iloc[j], label_cols):\n",
    "                w.write(str(v) + \" \")\n",
    "            w.write(\" \\n\")\n",
    "        else:\n",
    "            print(path.split(\".fits\")[0])"
   ]
  },
  {
   "cell_type": "code",
   "execution_count": 12,
   "metadata": {
    "ExecuteTime": {
     "end_time": "2023-08-20T22:52:57.469945200Z",
     "start_time": "2023-08-20T22:52:57.426966100Z"
    },
    "collapsed": false
   },
   "outputs": [],
   "source": [
    "train_uda, valid_uda = train_test_split(df_out_decals, train_size=0.9, random_state=1926)"
   ]
  },
  {
   "cell_type": "code",
   "execution_count": 29,
   "metadata": {
    "collapsed": false
   },
   "outputs": [],
   "source": [
    "out_path = pkg + \"/data/out_decals/stretched/\"\n",
    "with open(pkg + \"/data/train_uda.txt\", \"w\") as w:\n",
    "    for i in range(len(train_uda)):\n",
    "        ra = train_uda.iloc[i, 0]\n",
    "        dec = train_uda.iloc[i, 1]\n",
    "        if os.path.exists(out_path + str(ra) +\"_\"+str(dec)+\".fits\"):\n",
    "            w.writelines(out_path + str(ra) +\"_\"+str(dec)+\".fits\\n\")"
   ]
  },
  {
   "cell_type": "code",
   "execution_count": 30,
   "metadata": {
    "collapsed": false
   },
   "outputs": [],
   "source": [
    "out_path = pkg + \"/data/out_decals/stretched/\"\n",
    "with open(pkg + \"/data/valid_uda.txt\", \"w\") as w:\n",
    "    for i in range(len(valid_uda)):\n",
    "        ra = valid_uda.iloc[i, 0]\n",
    "        dec = valid_uda.iloc[i, 1]\n",
    "        if os.path.exists(out_path + str(ra) +\"_\"+str(dec)+\".fits\"):\n",
    "            w.writelines(out_path + str(ra) +\"_\"+str(dec)+\".fits\\n\")"
   ]
  },
  {
   "cell_type": "code",
   "execution_count": 31,
   "metadata": {
    "collapsed": false
   },
   "outputs": [],
   "source": [
    "out_path = pkg + \"/data/out_decals/stretched/\"\n",
    "with open(pkg + \"/data/mgs_out_decals.txt\", \"w\") as w:\n",
    "    for i in range(len(mgs_out_decals)):\n",
    "        ra = mgs_out_decals.iloc[i, 0]\n",
    "        dec = mgs_out_decals.iloc[i, 1]\n",
    "        if os.path.exists(out_path + str(ra) + \"_\" + str(dec) + \".fits\"):\n",
    "            w.writelines(out_path + str(ra) + \"_\" + str(dec) + \".fits\\n\")"
   ]
  },
  {
   "cell_type": "code",
   "execution_count": 21,
   "metadata": {
    "ExecuteTime": {
     "end_time": "2023-08-21T02:21:51.006035600Z",
     "start_time": "2023-08-21T02:21:40.596948700Z"
    },
    "collapsed": false
   },
   "outputs": [],
   "source": [
    "out_path = \"/data/public/renhaoye/morphics/dataset/out_decals/raw_fits/\"\n",
    "with open(pkg + \"/data/train_uda_raw.txt\", \"w\") as w:\n",
    "    for i in range(len(train_uda)):\n",
    "        ra = train_uda.iloc[i, 0]\n",
    "        dec = train_uda.iloc[i, 1]\n",
    "        if os.path.exists(out_path + str(ra) +\"_\"+str(dec)+\".fits\"):\n",
    "            w.writelines(out_path + str(ra) +\"_\"+str(dec)+\".fits\\n\")"
   ]
  },
  {
   "cell_type": "code",
   "execution_count": 22,
   "metadata": {
    "ExecuteTime": {
     "end_time": "2023-08-21T02:21:52.136100300Z",
     "start_time": "2023-08-21T02:21:51.006035600Z"
    },
    "collapsed": false
   },
   "outputs": [],
   "source": [
    "out_path = \"/data/public/renhaoye/morphics/dataset/out_decals/raw_fits/\"\n",
    "with open(pkg + \"/data/valid_uda_raw.txt\", \"w\") as w:\n",
    "    for i in range(len(valid_uda)):\n",
    "        ra = valid_uda.iloc[i, 0]\n",
    "        dec = valid_uda.iloc[i, 1]\n",
    "        if os.path.exists(out_path + str(ra) +\"_\"+str(dec)+\".fits\"):\n",
    "            w.writelines(out_path + str(ra) +\"_\"+str(dec)+\".fits\\n\")"
   ]
  },
  {
   "cell_type": "code",
   "execution_count": 8,
   "metadata": {
    "ExecuteTime": {
     "end_time": "2023-08-25T13:41:36.137335600Z",
     "start_time": "2023-08-25T13:41:31.296021200Z"
    },
    "collapsed": false
   },
   "outputs": [],
   "source": [
    "out_path = \"/data/public/renhaoye/morphics/dataset/in_decals/raw_fits/\"\n",
    "with open(pkg + \"/data/south_raw.txt\", \"w\") as w:\n",
    "    for i in range(len(in_decals)):\n",
    "        ra = in_decals.iloc[i, 0]\n",
    "        dec = in_decals.iloc[i, 1]\n",
    "        if os.path.exists(out_path + str(ra) +\"_\"+str(dec)+\".fits\"):\n",
    "            w.writelines(out_path + str(ra) +\"_\"+str(dec)+\".fits\\n\")"
   ]
  },
  {
   "cell_type": "code",
   "execution_count": 31,
   "metadata": {
    "collapsed": false
   },
   "outputs": [],
   "source": [
    "out_path = pkg + \"/data/out_decals/stretched/\"\n",
    "with open(pkg + \"/data/mgs_out_decals.txt\", \"w\") as w:\n",
    "    for i in range(len(mgs_out_decals)):\n",
    "        ra = mgs_out_decals.iloc[i, 0]\n",
    "        dec = mgs_out_decals.iloc[i, 1]\n",
    "        if os.path.exists(out_path + str(ra) + \"_\" + str(dec) + \".fits\"):\n",
    "            w.writelines(out_path + str(ra) + \"_\" + str(dec) + \".fits\\n\")"
   ]
  },
  {
   "cell_type": "code",
   "execution_count": null,
   "metadata": {
    "collapsed": false
   },
   "outputs": [],
   "source": []
  },
  {
   "cell_type": "code",
   "execution_count": 14,
   "metadata": {
    "ExecuteTime": {
     "end_time": "2023-09-09T11:07:13.742472700Z",
     "start_time": "2023-09-09T11:06:57.628106900Z"
    },
    "collapsed": false
   },
   "outputs": [],
   "source": [
    "out_path = \"/data/public/renhaoye/morphics/dataset/in_decals/raw_fits/\"\n",
    "with open(pkg + \"/data/south_raw.txt\", \"w\") as w:\n",
    "    for i in range(len(mgs_in_decals)):\n",
    "        ra = mgs_in_decals.iloc[i, 0]\n",
    "        dec = mgs_in_decals.iloc[i, 1]\n",
    "        if os.path.exists(out_path + str(ra) +\"_\"+str(dec)+\".fits\"):\n",
    "            w.writelines(out_path + str(ra) +\"_\"+str(dec)+\".fits\\n\")"
   ]
  },
  {
   "cell_type": "code",
   "execution_count": 15,
   "metadata": {
    "ExecuteTime": {
     "end_time": "2023-09-09T11:07:28.730323Z",
     "start_time": "2023-09-09T11:07:17.083212800Z"
    },
    "collapsed": false
   },
   "outputs": [],
   "source": [
    "out_path = \"/data/public/renhaoye/morphics/dataset/out_decals/raw_fits/\"\n",
    "with open(pkg + \"/data/north_raw.txt\", \"w\") as w:\n",
    "    for i in range(len(mgs_out_decals)):\n",
    "        ra = mgs_out_decals.iloc[i, 0]\n",
    "        dec = mgs_out_decals.iloc[i, 1]\n",
    "        if os.path.exists(out_path + str(ra) +\"_\"+str(dec)+\".fits\"):\n",
    "            w.writelines(out_path + str(ra) +\"_\"+str(dec)+\".fits\\n\")"
   ]
  }
 ],
 "metadata": {
  "kernelspec": {
   "display_name": "Python 3",
   "language": "python",
   "name": "python3"
  },
  "language_info": {
   "codemirror_mode": {
    "name": "ipython",
    "version": 3
   },
   "file_extension": ".py",
   "mimetype": "text/x-python",
   "name": "python",
   "nbconvert_exporter": "python",
   "pygments_lexer": "ipython3",
   "version": "3.8.16"
  }
 },
 "nbformat": 4,
 "nbformat_minor": 0
}
